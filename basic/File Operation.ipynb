{
 "cells": [
  {
   "cell_type": "markdown",
   "metadata": {},
   "source": [
    "# File operation read/write"
   ]
  },
  {
   "cell_type": "markdown",
   "metadata": {},
   "source": [
    "Open file for reading"
   ]
  },
  {
   "cell_type": "code",
   "execution_count": 5,
   "metadata": {},
   "outputs": [
    {
     "name": "stdout",
     "output_type": "stream",
     "text": [
      "['line1', '2', '3', '4']\n",
      "['line2', '3', '4', '5']\n",
      "['line3', '4', '5', '6']\n",
      "['line4', '5', '6', '7']\n"
     ]
    }
   ],
   "source": [
    "file_path = 'sample_csv.csv'\n",
    "with open(file_path,\"r\") as f:\n",
    "     for line in f.readlines():\n",
    "            # Remove carrage return before split\n",
    "            fields = line.strip().split(\",\")\n",
    "            print (fields)"
   ]
  },
  {
   "cell_type": "markdown",
   "metadata": {},
   "source": [
    "Check file existent, remove file operation, open file for writing"
   ]
  },
  {
   "cell_type": "code",
   "execution_count": 11,
   "metadata": {},
   "outputs": [
    {
     "name": "stdout",
     "output_type": "stream",
     "text": [
      "Deleting file 'sample_output.csv'\n",
      "Opening file 'sample_output.csv' for output\n"
     ]
    }
   ],
   "source": [
    "import os.path\n",
    "file_path = 'sample_output.csv'\n",
    "# If output file exist, then delete it\n",
    "if os.path.isfile(file_path):\n",
    "    os.remove(file_path)\n",
    "    print (\"Deleting file '%s'\" % file_path)\n",
    "\n",
    "with open(file_path,\"w\") as fo:\n",
    "    print (\"Opening file '%s' for output\" % file_path)\n",
    "    for i in range(5):\n",
    "        fo.writelines(\"Line %i,%i,%i,%i\\n\" % (i, i+1, i+2, i+3))"
   ]
  }
 ],
 "metadata": {
  "kernelspec": {
   "display_name": "Python 3",
   "language": "python",
   "name": "python3"
  },
  "language_info": {
   "codemirror_mode": {
    "name": "ipython",
    "version": 3
   },
   "file_extension": ".py",
   "mimetype": "text/x-python",
   "name": "python",
   "nbconvert_exporter": "python",
   "pygments_lexer": "ipython3",
   "version": "3.7.3"
  }
 },
 "nbformat": 4,
 "nbformat_minor": 2
}
